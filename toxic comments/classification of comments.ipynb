{
 "cells": [
  {
   "cell_type": "markdown",
   "metadata": {},
   "source": [
    "# Проект для «Викишоп»"
   ]
  },
  {
   "cell_type": "markdown",
   "metadata": {},
   "source": [
    "Интернет-магазин «Викишоп» запускает новый сервис. Теперь пользователи могут редактировать и дополнять описания товаров, как в вики-сообществах. То есть клиенты предлагают свои правки и комментируют изменения других. Магазину нужен инструмент, который будет искать токсичные комментарии и отправлять их на модерацию. \n",
    "\n",
    "Обучите модель классифицировать комментарии на позитивные и негативные. В вашем распоряжении набор данных с разметкой о токсичности правок.\n",
    "\n",
    "Постройте модель со значением метрики качества *F1* не меньше 0.75. \n",
    "\n",
    "**Описание данных**\n",
    "\n",
    "Данные находятся в файле toxic_comments.csv\n",
    "\n",
    "\n",
    "- `text` — текст комментария,\n",
    "- `toxic` — целевой признак."
   ]
  },
  {
   "cell_type": "markdown",
   "metadata": {
    "toc": true
   },
   "source": [
    "<h1>Содержание<span class=\"tocSkip\"></span></h1>\n",
    "<div class=\"toc\"><ul class=\"toc-item\"><li><span><a href=\"#Подготовка\" data-toc-modified-id=\"Подготовка-1\"><span class=\"toc-item-num\">1&nbsp;&nbsp;</span>Подготовка</a></span></li><li><span><a href=\"#Кросс-валидация\" data-toc-modified-id=\"Кросс-валидация-2\"><span class=\"toc-item-num\">2&nbsp;&nbsp;</span>Кросс-валидация</a></span><ul class=\"toc-item\"><li><span><a href=\"#Логистическая-регрессия\" data-toc-modified-id=\"Логистическая-регрессия-2.1\"><span class=\"toc-item-num\">2.1&nbsp;&nbsp;</span>Логистическая регрессия</a></span></li><li><span><a href=\"#Случайный-лес-с-градиентным-бустингом\" data-toc-modified-id=\"Случайный-лес-с-градиентным-бустингом-2.2\"><span class=\"toc-item-num\">2.2&nbsp;&nbsp;</span>Случайный лес с градиентным бустингом</a></span></li></ul></li><li><span><a href=\"#Обучение\" data-toc-modified-id=\"Обучение-3\"><span class=\"toc-item-num\">3&nbsp;&nbsp;</span>Обучение</a></span></li><li><span><a href=\"#Выводы\" data-toc-modified-id=\"Выводы-4\"><span class=\"toc-item-num\">4&nbsp;&nbsp;</span>Выводы</a></span></li></ul></div>"
   ]
  },
  {
   "cell_type": "markdown",
   "metadata": {},
   "source": [
    "## Подготовка"
   ]
  },
  {
   "cell_type": "code",
   "execution_count": 1,
   "metadata": {},
   "outputs": [
    {
     "name": "stderr",
     "output_type": "stream",
     "text": [
      "[nltk_data] Downloading package stopwords to\n",
      "[nltk_data]     C:\\Users\\weeqe\\AppData\\Roaming\\nltk_data...\n",
      "[nltk_data]   Package stopwords is already up-to-date!\n",
      "[nltk_data] Downloading package wordnet to\n",
      "[nltk_data]     C:\\Users\\weeqe\\AppData\\Roaming\\nltk_data...\n",
      "[nltk_data]   Package wordnet is already up-to-date!\n",
      "[nltk_data] Downloading package omw-1.4 to\n",
      "[nltk_data]     C:\\Users\\weeqe\\AppData\\Roaming\\nltk_data...\n",
      "[nltk_data]   Package omw-1.4 is already up-to-date!\n",
      "[nltk_data] Downloading package punkt to\n",
      "[nltk_data]     C:\\Users\\weeqe\\AppData\\Roaming\\nltk_data...\n",
      "[nltk_data]   Package punkt is already up-to-date!\n",
      "[nltk_data] Downloading package averaged_perceptron_tagger to\n",
      "[nltk_data]     C:\\Users\\weeqe\\AppData\\Roaming\\nltk_data...\n",
      "[nltk_data]   Package averaged_perceptron_tagger is already up-to-\n",
      "[nltk_data]       date!\n"
     ]
    }
   ],
   "source": [
    "# Библиотеки\n",
    "import time\n",
    "from tqdm.notebook import tqdm_notebook as tqdm\n",
    "\n",
    "import pandas as pd\n",
    "import seaborn as sns\n",
    "from matplotlib import pyplot as plt\n",
    "\n",
    "import nltk\n",
    "from nltk.corpus import stopwords, wordnet\n",
    "from nltk.stem import WordNetLemmatizer, SnowballStemmer\n",
    "from nltk import pos_tag\n",
    "import re\n",
    "from sklearn.feature_extraction.text import CountVectorizer, TfidfVectorizer\n",
    "from sklearn.linear_model import LogisticRegression\n",
    "from sklearn.model_selection import train_test_split, GridSearchCV\n",
    "from sklearn.metrics import f1_score, auc, roc_curve\n",
    "from sklearn.pipeline import Pipeline\n",
    "from lightgbm import LGBMClassifier\n",
    "\n",
    "nltk.download('stopwords')\n",
    "nltk.download('wordnet')\n",
    "nltk.download('omw-1.4')\n",
    "nltk.download('punkt')\n",
    "nltk.download('averaged_perceptron_tagger')\n",
    "stop_words = set(stopwords.words('english'))\n",
    "pd.set_option('display.max_colwidth', 280)\n",
    "\n",
    "RANDOM_STATE = 123"
   ]
  },
  {
   "cell_type": "code",
   "execution_count": 2,
   "metadata": {},
   "outputs": [],
   "source": [
    "class hm:\n",
    "    \n",
    "    # Функция визуализирует каличества встречающихчя значений в pd.Series\n",
    "    def plot_value_counts(series, n_values=25, fillna='NONE', figwidth=10):\n",
    "        \n",
    "        val_counts = series.fillna(fillna).value_counts()\n",
    "        bar_values = val_counts.values[:n_values]\n",
    "        bar_labels = val_counts.index[:n_values].astype('str')\n",
    "        plt.figure(figsize=(figwidth, 0.5*min(len(val_counts), n_values)))\n",
    "        ax = sns.barplot(x=bar_values, y=bar_labels)\n",
    "        ax.set(title='\"{}\" value counts ({} / {})'\n",
    "            .format(series.name, len(bar_labels), val_counts.shape[0]),\n",
    "            xlim=[0, 1.075*bar_values.max()]\n",
    "            )\n",
    "        plt.bar_label(ax.containers[0])\n",
    "        for i in range(len(bar_labels)):\n",
    "            if bar_labels[i] == fillna:\n",
    "                ax.patches[i].set_color('black')\n",
    "        plt.show()\n",
    "    \n",
    "    # Функция выводит таблицу с показателями моделей, показавших наилучшие значения метрики на кроссвалидации.\n",
    "    def best_cv_models(grid, count):\n",
    "        \n",
    "        print('Estimator: {}'.format(grid.estimator))\n",
    "        print('Tested {} models. Splits: {}'.format(\n",
    "            len(grid.cv_results_['params']), grid.cv))\n",
    "        print('Best score = {}\\n'.format(grid.best_score_))\n",
    "        best_idx = grid.cv_results_['rank_test_score'].argsort()[:count]\n",
    "\n",
    "        results = {}\n",
    "        results['test score'] = grid.cv_results_['mean_test_score'][best_idx]\n",
    "        if 'mean_train_score' in grid.cv_results_.keys():\n",
    "            results['train score'] = grid.cv_results_['mean_train_score'][best_idx]\n",
    "        results['fit time, s'] = grid.cv_results_['mean_fit_time'][best_idx]\n",
    "        results['score time, s'] = grid.cv_results_['mean_score_time'][best_idx]\n",
    "\n",
    "        return pd.DataFrame(results).join(\n",
    "               pd.DataFrame([grid.cv_results_['params'][i] for i in best_idx]))\n",
    "    \n",
    "    # Функция строит ROC кривую для моделей из переданнойго словаря\n",
    "    def roc_curve_plot(models, X_test, y_test, title='ROC Curve', labels=None, figsize=(10,8)):\n",
    "        \n",
    "        plt.figure(figsize=figsize)\n",
    "        for name, model in models.items():\n",
    "            pred = model.predict_proba(X_test)[:, 1]\n",
    "            fpr, tpr, thresholds = roc_curve(y_test, pred)\n",
    "            roc_auc = auc(fpr, tpr)\n",
    "            plt.title(title)\n",
    "            plt.plot(fpr, tpr, label='AUC = %0.4f (%s)' % (roc_auc, name))\n",
    "        plt.legend(loc='lower right')\n",
    "        plt.plot([0, 1], [0, 1], 'r--')\n",
    "        plt.grid()\n",
    "        plt.xlim([0, 1]), plt.ylim([0, 1])\n",
    "        plt.ylabel('True Positive Rate')\n",
    "        plt.xlabel('False Positive Rate')\n",
    "        plt.show()\n",
    "    \n",
    "    # Функция возвращает score, время обучения, время пердсказаний и сами предсказания в виде словаря\n",
    "    def test_model(model, X_train, X_test, y_train, y_test, score_func=None):\n",
    "\n",
    "        # обучение\n",
    "        t_beg = time.time()\n",
    "        model.fit(X_train, y_train)\n",
    "        time_fit = time.time() - t_beg\n",
    "        # предсказания\n",
    "        t_beg = time.time()\n",
    "        y_pred = model.predict(X_test)\n",
    "        time_predict = time.time() - t_beg\n",
    "        # метрика\n",
    "        score = score_func(y_test, y_pred)\n",
    "\n",
    "        return {'score test': score,\n",
    "                'fit time': time_fit,\n",
    "                'predict time': time_predict\n",
    "                }"
   ]
  },
  {
   "cell_type": "code",
   "execution_count": 3,
   "metadata": {},
   "outputs": [],
   "source": [
    "# загрузим данные\n",
    "try:\n",
    "    df = pd.read_csv('C:/Users/weeqe/projects/data/toxic_comments.csv')\n",
    "except:\n",
    "    df = pd.read_csv('https://code.s3.yandex.net/datasets/toxic_comments.csv')"
   ]
  },
  {
   "cell_type": "code",
   "execution_count": 4,
   "metadata": {},
   "outputs": [
    {
     "name": "stdout",
     "output_type": "stream",
     "text": [
      "<class 'pandas.core.frame.DataFrame'>\n",
      "RangeIndex: 159292 entries, 0 to 159291\n",
      "Data columns (total 3 columns):\n",
      " #   Column      Non-Null Count   Dtype \n",
      "---  ------      --------------   ----- \n",
      " 0   Unnamed: 0  159292 non-null  int64 \n",
      " 1   text        159292 non-null  object\n",
      " 2   toxic       159292 non-null  int64 \n",
      "dtypes: int64(2), object(1)\n",
      "memory usage: 3.6+ MB\n",
      "Duplicates count: 0\n"
     ]
    }
   ],
   "source": [
    "df.info()\n",
    "print('Duplicates count:', df['text'].duplicated().sum())"
   ]
  },
  {
   "cell_type": "code",
   "execution_count": 5,
   "metadata": {},
   "outputs": [
    {
     "data": {
      "text/html": [
       "<div>\n",
       "<style scoped>\n",
       "    .dataframe tbody tr th:only-of-type {\n",
       "        vertical-align: middle;\n",
       "    }\n",
       "\n",
       "    .dataframe tbody tr th {\n",
       "        vertical-align: top;\n",
       "    }\n",
       "\n",
       "    .dataframe thead th {\n",
       "        text-align: right;\n",
       "    }\n",
       "</style>\n",
       "<table border=\"1\" class=\"dataframe\">\n",
       "  <thead>\n",
       "    <tr style=\"text-align: right;\">\n",
       "      <th></th>\n",
       "      <th>Unnamed: 0</th>\n",
       "      <th>text</th>\n",
       "      <th>toxic</th>\n",
       "    </tr>\n",
       "  </thead>\n",
       "  <tbody>\n",
       "    <tr>\n",
       "      <th>0</th>\n",
       "      <td>0</td>\n",
       "      <td>Explanation\\nWhy the edits made under my username Hardcore Metallica Fan were reverted? They weren't vandalisms, just closure on some GAs after I voted at New York Dolls FAC. And please don't remove the template from the talk page since I'm retired now.89.205.38.27</td>\n",
       "      <td>0</td>\n",
       "    </tr>\n",
       "    <tr>\n",
       "      <th>1</th>\n",
       "      <td>1</td>\n",
       "      <td>D'aww! He matches this background colour I'm seemingly stuck with. Thanks.  (talk) 21:51, January 11, 2016 (UTC)</td>\n",
       "      <td>0</td>\n",
       "    </tr>\n",
       "    <tr>\n",
       "      <th>2</th>\n",
       "      <td>2</td>\n",
       "      <td>Hey man, I'm really not trying to edit war. It's just that this guy is constantly removing relevant information and talking to me through edits instead of my talk page. He seems to care more about the formatting than the actual info.</td>\n",
       "      <td>0</td>\n",
       "    </tr>\n",
       "    <tr>\n",
       "      <th>3</th>\n",
       "      <td>3</td>\n",
       "      <td>\"\\nMore\\nI can't make any real suggestions on improvement - I wondered if the section statistics should be later on, or a subsection of \"\"types of accidents\"\"  -I think the references may need tidying so that they are all in the exact same format ie date format etc. I can do ...</td>\n",
       "      <td>0</td>\n",
       "    </tr>\n",
       "    <tr>\n",
       "      <th>4</th>\n",
       "      <td>4</td>\n",
       "      <td>You, sir, are my hero. Any chance you remember what page that's on?</td>\n",
       "      <td>0</td>\n",
       "    </tr>\n",
       "  </tbody>\n",
       "</table>\n",
       "</div>"
      ],
      "text/plain": [
       "   Unnamed: 0  \\\n",
       "0           0   \n",
       "1           1   \n",
       "2           2   \n",
       "3           3   \n",
       "4           4   \n",
       "\n",
       "                                                                                                                                                                                                                                                                                      text  \\\n",
       "0                Explanation\\nWhy the edits made under my username Hardcore Metallica Fan were reverted? They weren't vandalisms, just closure on some GAs after I voted at New York Dolls FAC. And please don't remove the template from the talk page since I'm retired now.89.205.38.27   \n",
       "1                                                                                                                                                                         D'aww! He matches this background colour I'm seemingly stuck with. Thanks.  (talk) 21:51, January 11, 2016 (UTC)   \n",
       "2                                                Hey man, I'm really not trying to edit war. It's just that this guy is constantly removing relevant information and talking to me through edits instead of my talk page. He seems to care more about the formatting than the actual info.   \n",
       "3  \"\\nMore\\nI can't make any real suggestions on improvement - I wondered if the section statistics should be later on, or a subsection of \"\"types of accidents\"\"  -I think the references may need tidying so that they are all in the exact same format ie date format etc. I can do ...   \n",
       "4                                                                                                                                                                                                                      You, sir, are my hero. Any chance you remember what page that's on?   \n",
       "\n",
       "   toxic  \n",
       "0      0  \n",
       "1      0  \n",
       "2      0  \n",
       "3      0  \n",
       "4      0  "
      ]
     },
     "execution_count": 5,
     "metadata": {},
     "output_type": "execute_result"
    }
   ],
   "source": [
    "df.head()"
   ]
  },
  {
   "cell_type": "code",
   "execution_count": 6,
   "metadata": {},
   "outputs": [
    {
     "data": {
      "text/html": [
       "<div>\n",
       "<style scoped>\n",
       "    .dataframe tbody tr th:only-of-type {\n",
       "        vertical-align: middle;\n",
       "    }\n",
       "\n",
       "    .dataframe tbody tr th {\n",
       "        vertical-align: top;\n",
       "    }\n",
       "\n",
       "    .dataframe thead th {\n",
       "        text-align: right;\n",
       "    }\n",
       "</style>\n",
       "<table border=\"1\" class=\"dataframe\">\n",
       "  <thead>\n",
       "    <tr style=\"text-align: right;\">\n",
       "      <th></th>\n",
       "      <th>Unnamed: 0</th>\n",
       "      <th>text</th>\n",
       "      <th>toxic</th>\n",
       "    </tr>\n",
       "  </thead>\n",
       "  <tbody>\n",
       "    <tr>\n",
       "      <th>159287</th>\n",
       "      <td>159446</td>\n",
       "      <td>\":::::And for the second time of asking, when your view completely contradicts the coverage in reliable sources, why should anyone care what you feel? You can't even give a consistent argument - is the opening only supposed to mention significant aspects, or the \"\"most signif...</td>\n",
       "      <td>0</td>\n",
       "    </tr>\n",
       "    <tr>\n",
       "      <th>159288</th>\n",
       "      <td>159447</td>\n",
       "      <td>You should be ashamed of yourself \\n\\nThat is a horrible thing you put on my talk page.  128.61.19.93</td>\n",
       "      <td>0</td>\n",
       "    </tr>\n",
       "    <tr>\n",
       "      <th>159289</th>\n",
       "      <td>159448</td>\n",
       "      <td>Spitzer \\n\\nUmm, theres no actual article for prostitution ring.  - Crunch Captain.</td>\n",
       "      <td>0</td>\n",
       "    </tr>\n",
       "    <tr>\n",
       "      <th>159290</th>\n",
       "      <td>159449</td>\n",
       "      <td>And it looks like it was actually you who put on the speedy to have the first version deleted now that I look at it.</td>\n",
       "      <td>0</td>\n",
       "    </tr>\n",
       "    <tr>\n",
       "      <th>159291</th>\n",
       "      <td>159450</td>\n",
       "      <td>\"\\nAnd ... I really don't think you understand.  I came here and my idea was bad right away.  What kind of community goes \"\"you have bad ideas\"\" go away, instead of helping rewrite them.   \"</td>\n",
       "      <td>0</td>\n",
       "    </tr>\n",
       "  </tbody>\n",
       "</table>\n",
       "</div>"
      ],
      "text/plain": [
       "        Unnamed: 0  \\\n",
       "159287      159446   \n",
       "159288      159447   \n",
       "159289      159448   \n",
       "159290      159449   \n",
       "159291      159450   \n",
       "\n",
       "                                                                                                                                                                                                                                                                                           text  \\\n",
       "159287  \":::::And for the second time of asking, when your view completely contradicts the coverage in reliable sources, why should anyone care what you feel? You can't even give a consistent argument - is the opening only supposed to mention significant aspects, or the \"\"most signif...   \n",
       "159288                                                                                                                                                                                    You should be ashamed of yourself \\n\\nThat is a horrible thing you put on my talk page.  128.61.19.93   \n",
       "159289                                                                                                                                                                                                      Spitzer \\n\\nUmm, theres no actual article for prostitution ring.  - Crunch Captain.   \n",
       "159290                                                                                                                                                                     And it looks like it was actually you who put on the speedy to have the first version deleted now that I look at it.   \n",
       "159291                                                                                           \"\\nAnd ... I really don't think you understand.  I came here and my idea was bad right away.  What kind of community goes \"\"you have bad ideas\"\" go away, instead of helping rewrite them.   \"   \n",
       "\n",
       "        toxic  \n",
       "159287      0  \n",
       "159288      0  \n",
       "159289      0  \n",
       "159290      0  \n",
       "159291      0  "
      ]
     },
     "execution_count": 6,
     "metadata": {},
     "output_type": "execute_result"
    }
   ],
   "source": [
    "df.tail()"
   ]
  },
  {
   "cell_type": "code",
   "execution_count": 7,
   "metadata": {},
   "outputs": [
    {
     "data": {
      "image/png": "[encoded data removed]",
      "text/plain": [
       "<Figure size 640x480 with 1 Axes>"
      ]
     },
     "metadata": {},
     "output_type": "display_data"
    }
   ],
   "source": [
    "#оценим распределение\n",
    "plt.hist(df['Unnamed: 0'],edgecolor='black')\n",
    "plt.title('Распределение столбца \"Unnamed: 0\"')\n",
    "plt.xlabel('Unnamed: 0')\n",
    "plt.ylabel('Количество комментариев')\n",
    "plt.show()"
   ]
  },
  {
   "cell_type": "markdown",
   "metadata": {},
   "source": [
    "plt.hist(df['registration_year'],edgecolor='black')\n",
    "plt.title('Регистрация автомобиля')\n",
    "plt.xlabel('Годы')\n",
    "plt.ylabel('Количество авто')\n",
    "plt.show()"
   ]
  },
  {
   "cell_type": "code",
   "execution_count": 8,
   "metadata": {},
   "outputs": [],
   "source": [
    "# никакой информации этот стобец не несет, поэтому удалим его.\n",
    "df = df.drop('Unnamed: 0', axis=1)"
   ]
  },
  {
   "cell_type": "code",
   "execution_count": 9,
   "metadata": {},
   "outputs": [
    {
     "data": {
      "image/png": "[encoded data removed]",
      "text/plain": [
       "<Figure size 1000x100 with 1 Axes>"
      ]
     },
     "metadata": {},
     "output_type": "display_data"
    }
   ],
   "source": [
    "hm.plot_value_counts(df['toxic'])"
   ]
  },
  {
   "cell_type": "markdown",
   "metadata": {},
   "source": [
    "Классы несбалансированы, поэтому для некоторых моделей необходимо будет их сбалансировать"
   ]
  },
  {
   "cell_type": "code",
   "execution_count": 10,
   "metadata": {},
   "outputs": [
    {
     "data": {
      "text/html": [
       "<div>\n",
       "<style scoped>\n",
       "    .dataframe tbody tr th:only-of-type {\n",
       "        vertical-align: middle;\n",
       "    }\n",
       "\n",
       "    .dataframe tbody tr th {\n",
       "        vertical-align: top;\n",
       "    }\n",
       "\n",
       "    .dataframe thead th {\n",
       "        text-align: right;\n",
       "    }\n",
       "</style>\n",
       "<table border=\"1\" class=\"dataframe\">\n",
       "  <thead>\n",
       "    <tr style=\"text-align: right;\">\n",
       "      <th></th>\n",
       "      <th>text</th>\n",
       "      <th>toxic</th>\n",
       "    </tr>\n",
       "  </thead>\n",
       "  <tbody>\n",
       "    <tr>\n",
       "      <th>102613</th>\n",
       "      <td>Agreed\\nI will do as you say.</td>\n",
       "      <td>0</td>\n",
       "    </tr>\n",
       "    <tr>\n",
       "      <th>24322</th>\n",
       "      <td>\"\\n\\nThis article is ludicrous, it paints anti-religonists with some kind of generalizing brush that Atheists have been getting away with for decades now. That is, that *we* can refer to ourselves in the 3rd person and apply any positive adjective we wish. I.e. O'Hare and oth...</td>\n",
       "      <td>1</td>\n",
       "    </tr>\n",
       "    <tr>\n",
       "      <th>145885</th>\n",
       "      <td>Everything is verified.  Your attempting spin.  And moderators like you have an agenda. I will report you.</td>\n",
       "      <td>0</td>\n",
       "    </tr>\n",
       "    <tr>\n",
       "      <th>8311</th>\n",
       "      <td>Reverting - Cold War People \\n\\nPearle, I hope you don't mind my reverting your last edit.  You've removed a lot of names form the category of cold war people, and rightly so, but Chamoun was a key figure, if not the key figure, in the Lebanon Crisis of 1958, which Eisenhower...</td>\n",
       "      <td>0</td>\n",
       "    </tr>\n",
       "    <tr>\n",
       "      <th>43033</th>\n",
       "      <td>and page is getting 76K hits an hour as a result.©</td>\n",
       "      <td>0</td>\n",
       "    </tr>\n",
       "    <tr>\n",
       "      <th>46002</th>\n",
       "      <td>No, I'm not. It's sad you can't see that. I will repeat, as you don't seem to get it. The only reason Wereith was found, was because of my socking. As such, my infraction is minor, compared to his massive violation - despite the multiple bans, both arbcom and community, and a...</td>\n",
       "      <td>0</td>\n",
       "    </tr>\n",
       "    <tr>\n",
       "      <th>78129</th>\n",
       "      <td>I don't think any of the above suggests any relationship, of any kind, between The Blob and the biotech concept of green (or even gray) goo.  Here is the section which I have removed:\\n\\n *Unintended as it was at the time, The Blob is a perfect example of green goo (and of al...</td>\n",
       "      <td>0</td>\n",
       "    </tr>\n",
       "    <tr>\n",
       "      <th>51837</th>\n",
       "      <td>To determine the reliablity of the site, we need to know what sort of fact checking they do. You can establish this by showing news articles that say the site is reliable/noteworthy/etc. or you can show a page on the site that gives their rules for submissions/etc. or you can...</td>\n",
       "      <td>0</td>\n",
       "    </tr>\n",
       "  </tbody>\n",
       "</table>\n",
       "</div>"
      ],
      "text/plain": [
       "                                                                                                                                                                                                                                                                                           text  \\\n",
       "102613                                                                                                                                                                                                                                                            Agreed\\nI will do as you say.   \n",
       "24322   \"\\n\\nThis article is ludicrous, it paints anti-religonists with some kind of generalizing brush that Atheists have been getting away with for decades now. That is, that *we* can refer to ourselves in the 3rd person and apply any positive adjective we wish. I.e. O'Hare and oth...   \n",
       "145885                                                                                                                                                                               Everything is verified.  Your attempting spin.  And moderators like you have an agenda. I will report you.   \n",
       "8311    Reverting - Cold War People \\n\\nPearle, I hope you don't mind my reverting your last edit.  You've removed a lot of names form the category of cold war people, and rightly so, but Chamoun was a key figure, if not the key figure, in the Lebanon Crisis of 1958, which Eisenhower...   \n",
       "43033                                                                                                                                                                                                                                        and page is getting 76K hits an hour as a result.©   \n",
       "46002   No, I'm not. It's sad you can't see that. I will repeat, as you don't seem to get it. The only reason Wereith was found, was because of my socking. As such, my infraction is minor, compared to his massive violation - despite the multiple bans, both arbcom and community, and a...   \n",
       "78129   I don't think any of the above suggests any relationship, of any kind, between The Blob and the biotech concept of green (or even gray) goo.  Here is the section which I have removed:\\n\\n *Unintended as it was at the time, The Blob is a perfect example of green goo (and of al...   \n",
       "51837   To determine the reliablity of the site, we need to know what sort of fact checking they do. You can establish this by showing news articles that say the site is reliable/noteworthy/etc. or you can show a page on the site that gives their rules for submissions/etc. or you can...   \n",
       "\n",
       "        toxic  \n",
       "102613      0  \n",
       "24322       1  \n",
       "145885      0  \n",
       "8311        0  \n",
       "43033       0  \n",
       "46002       0  \n",
       "78129       0  \n",
       "51837       0  "
      ]
     },
     "execution_count": 10,
     "metadata": {},
     "output_type": "execute_result"
    }
   ],
   "source": [
    "df.sample(8)"
   ]
  },
  {
   "cell_type": "markdown",
   "metadata": {},
   "source": [
    "Реализуем функцию для предобработки текстовых комментариев:\n",
    "1. Приведём все комментарии к нижнему регистру\n",
    "2. Удалим знаки пунктуации, оставив только латинские буквы\n",
    "3. Разобъём каждый комментарий на отдельные слова\n",
    "    - Удалим стоп-слова\n",
    "    - Произведём лемматизацию слов\n",
    "4. Соберём слова обратно в предложение, разделив пробелами"
   ]
  },
  {
   "cell_type": "code",
   "execution_count": 11,
   "metadata": {},
   "outputs": [],
   "source": [
    "def get_wordnet_pos(word):\n",
    "    tag = nltk.pos_tag([word])[0][1][0].upper()\n",
    "    tag_dict = {\"J\": wordnet.ADJ,\n",
    "                \"N\": wordnet.NOUN,\n",
    "                \"V\": wordnet.VERB,\n",
    "                \"R\": wordnet.ADV}\n",
    "    return tag_dict.get(tag, wordnet.NOUN)\n",
    "\n",
    "\n",
    "\n",
    "def text_preprocesing(text, stop_words=None, lemmatize=True):\n",
    "    words = re.sub(r'[^a-z]', ' ', text.lower()).split()\n",
    "    if stop_words:\n",
    "        words = [w for w in words if not w in stop_words]\n",
    "    if lemmatize:\n",
    "        lemmatizer = WordNetLemmatizer()\n",
    "        lemma = [lemmatizer.lemmatize(word, get_wordnet_pos(word)) for word in words]\n",
    "\n",
    "                \n",
    "    return ' '.join(lemma)"
   ]
  },
  {
   "cell_type": "markdown",
   "metadata": {},
   "source": [
    "Произведём предобработку и разделим данные на обучающую и тестовую выборки"
   ]
  },
  {
   "cell_type": "code",
   "execution_count": 12,
   "metadata": {
    "scrolled": true
   },
   "outputs": [
    {
     "name": "stderr",
     "output_type": "stream",
     "text": [
      "C:\\Users\\weeqe\\AppData\\Local\\Temp\\ipykernel_56660\\2055717991.py:2: SettingWithCopyWarning: \n",
      "A value is trying to be set on a copy of a slice from a DataFrame.\n",
      "Try using .loc[row_indexer,col_indexer] = value instead\n",
      "\n",
      "See the caveats in the documentation: https://pandas.pydata.org/pandas-docs/stable/user_guide/indexing.html#returning-a-view-versus-a-copy\n",
      "  df_['text'] = df_['text'].apply(text_preprocesing, stop_words=stop_words)\n"
     ]
    },
    {
     "data": {
      "text/html": [
       "<div>\n",
       "<style scoped>\n",
       "    .dataframe tbody tr th:only-of-type {\n",
       "        vertical-align: middle;\n",
       "    }\n",
       "\n",
       "    .dataframe tbody tr th {\n",
       "        vertical-align: top;\n",
       "    }\n",
       "\n",
       "    .dataframe thead th {\n",
       "        text-align: right;\n",
       "    }\n",
       "</style>\n",
       "<table border=\"1\" class=\"dataframe\">\n",
       "  <thead>\n",
       "    <tr style=\"text-align: right;\">\n",
       "      <th></th>\n",
       "      <th>text</th>\n",
       "      <th>toxic</th>\n",
       "    </tr>\n",
       "  </thead>\n",
       "  <tbody>\n",
       "    <tr>\n",
       "      <th>0</th>\n",
       "      <td>explanation edits make username hardcore metallica fan revert vandalism closure gas vote new york doll fac please remove template talk page since retire</td>\n",
       "      <td>0</td>\n",
       "    </tr>\n",
       "    <tr>\n",
       "      <th>1</th>\n",
       "      <td>aww match background colour seemingly stuck thanks talk january utc</td>\n",
       "      <td>0</td>\n",
       "    </tr>\n",
       "    <tr>\n",
       "      <th>2</th>\n",
       "      <td>hey man really try edit war guy constantly remove relevant information talk edits instead talk page seem care format actual info</td>\n",
       "      <td>0</td>\n",
       "    </tr>\n",
       "    <tr>\n",
       "      <th>3</th>\n",
       "      <td>make real suggestion improvement wonder section statistic later subsection type accident think reference may need tidy exact format ie date format etc later one else first preference format style reference want please let know appear backlog article review guess may delay rev...</td>\n",
       "      <td>0</td>\n",
       "    </tr>\n",
       "    <tr>\n",
       "      <th>4</th>\n",
       "      <td>sir hero chance remember page</td>\n",
       "      <td>0</td>\n",
       "    </tr>\n",
       "  </tbody>\n",
       "</table>\n",
       "</div>"
      ],
      "text/plain": [
       "                                                                                                                                                                                                                                                                                      text  \\\n",
       "0                                                                                                                                 explanation edits make username hardcore metallica fan revert vandalism closure gas vote new york doll fac please remove template talk page since retire   \n",
       "1                                                                                                                                                                                                                      aww match background colour seemingly stuck thanks talk january utc   \n",
       "2                                                                                                                                                         hey man really try edit war guy constantly remove relevant information talk edits instead talk page seem care format actual info   \n",
       "3  make real suggestion improvement wonder section statistic later subsection type accident think reference may need tidy exact format ie date format etc later one else first preference format style reference want please let know appear backlog article review guess may delay rev...   \n",
       "4                                                                                                                                                                                                                                                            sir hero chance remember page   \n",
       "\n",
       "   toxic  \n",
       "0      0  \n",
       "1      0  \n",
       "2      0  \n",
       "3      0  \n",
       "4      0  "
      ]
     },
     "execution_count": 12,
     "metadata": {},
     "output_type": "execute_result"
    }
   ],
   "source": [
    "df_=df[:5]\n",
    "df_['text'] = df_['text'].apply(text_preprocesing, stop_words=stop_words)\n",
    "df_.head()"
   ]
  },
  {
   "cell_type": "code",
   "execution_count": 13,
   "metadata": {},
   "outputs": [
    {
     "name": "stdout",
     "output_type": "stream",
     "text": [
      "Wall time: 39min 40s\n"
     ]
    }
   ],
   "source": [
    "%%time\n",
    "corpus = df['text'].apply(text_preprocesing, stop_words=stop_words)\n",
    "\n",
    "X_train, X_test, y_train, y_test = (\n",
    "    train_test_split(corpus, df['toxic'], test_size=0.25, random_state=RANDOM_STATE))\n",
    "\n",
    "del corpus"
   ]
  },
  {
   "cell_type": "markdown",
   "metadata": {},
   "source": [
    "Посмотрим на размер признакового пространсва после векторизации:"
   ]
  },
  {
   "cell_type": "code",
   "execution_count": 14,
   "metadata": {},
   "outputs": [
    {
     "name": "stdout",
     "output_type": "stream",
     "text": [
      "n-gram range (1, 1) : features count = 127936\n",
      "n-gram range (2, 2) : features count = 1862803\n",
      "n-gram range (1, 2) : features count = 1990739\n"
     ]
    }
   ],
   "source": [
    "for r in [(1, 1), (2, 2), (1, 2)]:\n",
    "    print('n-gram range {} : features count = {}'\n",
    "          .format(r, TfidfVectorizer(ngram_range=r).fit_transform(X_train).shape[1]))"
   ]
  },
  {
   "cell_type": "markdown",
   "metadata": {},
   "source": [
    "При обучении на валидационной выборке ограничимся векторизацией отдельных слов, чтобы ускорить процесс обучения моделей и снизить объём используемой памяти.\n",
    "\n",
    "Также, ограничим порог значимости признака `min_df = 1e-5`"
   ]
  },
  {
   "cell_type": "markdown",
   "metadata": {},
   "source": [
    "## Кросс-валидация\n",
    "\n",
    "Зададим общие параметры для кроссвалидации моделей\n",
    "- метрика = `f1`\n",
    "- количество разбиений = 3\n",
    "\n",
    "Чтобы обеспечить \"честное\" тестирование и запускать векторизацию только на обучающей выборке, построим для каждой модели пайплайн. Иначе в модели будут учтены частоты слов из тестовой выборки."
   ]
  },
  {
   "cell_type": "code",
   "execution_count": 15,
   "metadata": {},
   "outputs": [],
   "source": [
    "cv_params = {'scoring': 'f1',\n",
    "             'return_train_score': True,\n",
    "             'cv': 3}"
   ]
  },
  {
   "cell_type": "markdown",
   "metadata": {},
   "source": [
    "### Логистическая регрессия"
   ]
  },
  {
   "cell_type": "code",
   "execution_count": 16,
   "metadata": {},
   "outputs": [
    {
     "name": "stdout",
     "output_type": "stream",
     "text": [
      "Estimator: Pipeline(steps=[('vct', TfidfVectorizer(min_df=1e-05)),\n",
      "                ('clf',\n",
      "                 LogisticRegression(class_weight='balanced', max_iter=500,\n",
      "                                    random_state=123))])\n",
      "Tested 6 models. Splits: 3\n",
      "Best score = 0.7587403808691113\n",
      "\n",
      "Wall time: 40.7 s\n"
     ]
    },
    {
     "data": {
      "text/html": [
       "<div>\n",
       "<style scoped>\n",
       "    .dataframe tbody tr th:only-of-type {\n",
       "        vertical-align: middle;\n",
       "    }\n",
       "\n",
       "    .dataframe tbody tr th {\n",
       "        vertical-align: top;\n",
       "    }\n",
       "\n",
       "    .dataframe thead th {\n",
       "        text-align: right;\n",
       "    }\n",
       "</style>\n",
       "<table border=\"1\" class=\"dataframe\">\n",
       "  <thead>\n",
       "    <tr style=\"text-align: right;\">\n",
       "      <th></th>\n",
       "      <th>test score</th>\n",
       "      <th>train score</th>\n",
       "      <th>fit time, s</th>\n",
       "      <th>score time, s</th>\n",
       "      <th>clf__C</th>\n",
       "      <th>clf__solver</th>\n",
       "    </tr>\n",
       "  </thead>\n",
       "  <tbody>\n",
       "    <tr>\n",
       "      <th>0</th>\n",
       "      <td>0.758740</td>\n",
       "      <td>0.923292</td>\n",
       "      <td>13.613641</td>\n",
       "      <td>1.964713</td>\n",
       "      <td>10.0</td>\n",
       "      <td>lbfgs</td>\n",
       "    </tr>\n",
       "    <tr>\n",
       "      <th>1</th>\n",
       "      <td>0.758740</td>\n",
       "      <td>0.923277</td>\n",
       "      <td>7.646681</td>\n",
       "      <td>1.989316</td>\n",
       "      <td>10.0</td>\n",
       "      <td>liblinear</td>\n",
       "    </tr>\n",
       "    <tr>\n",
       "      <th>2</th>\n",
       "      <td>0.743131</td>\n",
       "      <td>0.839849</td>\n",
       "      <td>8.431000</td>\n",
       "      <td>2.613220</td>\n",
       "      <td>1.0</td>\n",
       "      <td>lbfgs</td>\n",
       "    </tr>\n",
       "    <tr>\n",
       "      <th>3</th>\n",
       "      <td>0.743131</td>\n",
       "      <td>0.839789</td>\n",
       "      <td>6.259358</td>\n",
       "      <td>2.707558</td>\n",
       "      <td>1.0</td>\n",
       "      <td>liblinear</td>\n",
       "    </tr>\n",
       "    <tr>\n",
       "      <th>4</th>\n",
       "      <td>0.703730</td>\n",
       "      <td>0.743342</td>\n",
       "      <td>4.893502</td>\n",
       "      <td>2.856836</td>\n",
       "      <td>0.1</td>\n",
       "      <td>liblinear</td>\n",
       "    </tr>\n",
       "    <tr>\n",
       "      <th>5</th>\n",
       "      <td>0.703645</td>\n",
       "      <td>0.743344</td>\n",
       "      <td>5.410216</td>\n",
       "      <td>2.851715</td>\n",
       "      <td>0.1</td>\n",
       "      <td>lbfgs</td>\n",
       "    </tr>\n",
       "  </tbody>\n",
       "</table>\n",
       "</div>"
      ],
      "text/plain": [
       "   test score  train score  fit time, s  score time, s  clf__C clf__solver\n",
       "0    0.758740     0.923292    13.613641       1.964713    10.0       lbfgs\n",
       "1    0.758740     0.923277     7.646681       1.989316    10.0   liblinear\n",
       "2    0.743131     0.839849     8.431000       2.613220     1.0       lbfgs\n",
       "3    0.743131     0.839789     6.259358       2.707558     1.0   liblinear\n",
       "4    0.703730     0.743342     4.893502       2.856836     0.1   liblinear\n",
       "5    0.703645     0.743344     5.410216       2.851715     0.1       lbfgs"
      ]
     },
     "execution_count": 16,
     "metadata": {},
     "output_type": "execute_result"
    }
   ],
   "source": [
    "%%time\n",
    "pipe = Pipeline([('vct', TfidfVectorizer(min_df=1e-5)),\n",
    "                 ('clf', LogisticRegression(class_weight='balanced', \n",
    "                                            random_state=RANDOM_STATE, \n",
    "                                            max_iter=500))\n",
    "                ])\n",
    "params = {'clf__solver': ['lbfgs', 'liblinear'],\n",
    "          'clf__C': [0.1, 1, 10]\n",
    "         } \n",
    "grid_lr = GridSearchCV(pipe, params, **cv_params, n_jobs=-1)\n",
    "grid_lr.fit(X_train, y_train)\n",
    "hm.best_cv_models(grid_lr, 10)"
   ]
  },
  {
   "cell_type": "markdown",
   "metadata": {},
   "source": [
    "- решатель `liblinear` предпочтительнее, поскольку работает быстрее, выдавая практически такой же скор\n",
    "- C большими значениями параметра регуляризации `C` модель склонна к переобучению"
   ]
  },
  {
   "cell_type": "code",
   "execution_count": 17,
   "metadata": {},
   "outputs": [
    {
     "name": "stdout",
     "output_type": "stream",
     "text": [
      "Estimator: Pipeline(steps=[('vct', TfidfVectorizer(min_df=1e-05)),\n",
      "                ('clf',\n",
      "                 LogisticRegression(class_weight='balanced', max_iter=500,\n",
      "                                    random_state=123, solver='liblinear'))])\n",
      "Tested 4 models. Splits: 3\n",
      "Best score = 0.7789345042332355\n",
      "\n",
      "Wall time: 1min\n"
     ]
    },
    {
     "data": {
      "text/html": [
       "<div>\n",
       "<style scoped>\n",
       "    .dataframe tbody tr th:only-of-type {\n",
       "        vertical-align: middle;\n",
       "    }\n",
       "\n",
       "    .dataframe tbody tr th {\n",
       "        vertical-align: top;\n",
       "    }\n",
       "\n",
       "    .dataframe thead th {\n",
       "        text-align: right;\n",
       "    }\n",
       "</style>\n",
       "<table border=\"1\" class=\"dataframe\">\n",
       "  <thead>\n",
       "    <tr style=\"text-align: right;\">\n",
       "      <th></th>\n",
       "      <th>test score</th>\n",
       "      <th>train score</th>\n",
       "      <th>fit time, s</th>\n",
       "      <th>score time, s</th>\n",
       "      <th>clf__C</th>\n",
       "      <th>vct__ngram_range</th>\n",
       "    </tr>\n",
       "  </thead>\n",
       "  <tbody>\n",
       "    <tr>\n",
       "      <th>0</th>\n",
       "      <td>0.778935</td>\n",
       "      <td>0.988957</td>\n",
       "      <td>30.243043</td>\n",
       "      <td>4.076212</td>\n",
       "      <td>10</td>\n",
       "      <td>(1, 2)</td>\n",
       "    </tr>\n",
       "    <tr>\n",
       "      <th>1</th>\n",
       "      <td>0.758740</td>\n",
       "      <td>0.923277</td>\n",
       "      <td>7.122916</td>\n",
       "      <td>2.093569</td>\n",
       "      <td>10</td>\n",
       "      <td>(1, 1)</td>\n",
       "    </tr>\n",
       "    <tr>\n",
       "      <th>2</th>\n",
       "      <td>0.745165</td>\n",
       "      <td>0.913132</td>\n",
       "      <td>25.787458</td>\n",
       "      <td>5.355393</td>\n",
       "      <td>1</td>\n",
       "      <td>(1, 2)</td>\n",
       "    </tr>\n",
       "    <tr>\n",
       "      <th>3</th>\n",
       "      <td>0.743131</td>\n",
       "      <td>0.839789</td>\n",
       "      <td>5.885027</td>\n",
       "      <td>2.212851</td>\n",
       "      <td>1</td>\n",
       "      <td>(1, 1)</td>\n",
       "    </tr>\n",
       "  </tbody>\n",
       "</table>\n",
       "</div>"
      ],
      "text/plain": [
       "   test score  train score  fit time, s  score time, s  clf__C  \\\n",
       "0    0.778935     0.988957    30.243043       4.076212      10   \n",
       "1    0.758740     0.923277     7.122916       2.093569      10   \n",
       "2    0.745165     0.913132    25.787458       5.355393       1   \n",
       "3    0.743131     0.839789     5.885027       2.212851       1   \n",
       "\n",
       "  vct__ngram_range  \n",
       "0           (1, 2)  \n",
       "1           (1, 1)  \n",
       "2           (1, 2)  \n",
       "3           (1, 1)  "
      ]
     },
     "execution_count": 17,
     "metadata": {},
     "output_type": "execute_result"
    }
   ],
   "source": [
    "%%time\n",
    "pipe = Pipeline([('vct', TfidfVectorizer(min_df=1e-5)),\n",
    "                 ('clf', LogisticRegression(class_weight='balanced',\n",
    "                                            random_state=RANDOM_STATE,\n",
    "                                            solver='liblinear',\n",
    "                                            max_iter=500))\n",
    "                ])\n",
    "params = {'vct__ngram_range': [(1, 1), (1, 2)], \n",
    "          'clf__C': [1, 10]\n",
    "          }\n",
    "grid_lr = GridSearchCV(pipe, params, **cv_params, n_jobs=-1)\n",
    "grid_lr.fit(X_train, y_train)\n",
    "hm.best_cv_models(grid_lr, 10)"
   ]
  },
  {
   "cell_type": "markdown",
   "metadata": {},
   "source": [
    "Использование векторизации на N-граммах позволяет поднять скор. Однако переобучение на таком большом количестве признаков ещё сильнее\n"
   ]
  },
  {
   "cell_type": "markdown",
   "metadata": {},
   "source": [
    "### Случайный лес с градиентным бустингом\n",
    "\n",
    "Воспользуемся классификатором LightGBM"
   ]
  },
  {
   "cell_type": "code",
   "execution_count": 18,
   "metadata": {},
   "outputs": [
    {
     "name": "stdout",
     "output_type": "stream",
     "text": [
      "Estimator: Pipeline(steps=[('vct', TfidfVectorizer(min_df=1e-05)),\n",
      "                ('clf', LGBMClassifier(random_state=123))])\n",
      "Tested 36 models. Splits: 3\n",
      "Best score = 0.7729807648230276\n",
      "\n",
      "Wall time: 39min 53s\n"
     ]
    },
    {
     "data": {
      "text/html": [
       "<div>\n",
       "<style scoped>\n",
       "    .dataframe tbody tr th:only-of-type {\n",
       "        vertical-align: middle;\n",
       "    }\n",
       "\n",
       "    .dataframe tbody tr th {\n",
       "        vertical-align: top;\n",
       "    }\n",
       "\n",
       "    .dataframe thead th {\n",
       "        text-align: right;\n",
       "    }\n",
       "</style>\n",
       "<table border=\"1\" class=\"dataframe\">\n",
       "  <thead>\n",
       "    <tr style=\"text-align: right;\">\n",
       "      <th></th>\n",
       "      <th>test score</th>\n",
       "      <th>train score</th>\n",
       "      <th>fit time, s</th>\n",
       "      <th>score time, s</th>\n",
       "      <th>clf__learning_rate</th>\n",
       "      <th>clf__max_depth</th>\n",
       "      <th>clf__n_estimators</th>\n",
       "      <th>clf__num_leaves</th>\n",
       "    </tr>\n",
       "  </thead>\n",
       "  <tbody>\n",
       "    <tr>\n",
       "      <th>0</th>\n",
       "      <td>0.772981</td>\n",
       "      <td>0.952161</td>\n",
       "      <td>20.996427</td>\n",
       "      <td>1.548134</td>\n",
       "      <td>0.2</td>\n",
       "      <td>50</td>\n",
       "      <td>200</td>\n",
       "      <td>50</td>\n",
       "    </tr>\n",
       "    <tr>\n",
       "      <th>1</th>\n",
       "      <td>0.772981</td>\n",
       "      <td>0.952161</td>\n",
       "      <td>20.936025</td>\n",
       "      <td>1.549096</td>\n",
       "      <td>0.2</td>\n",
       "      <td>60</td>\n",
       "      <td>200</td>\n",
       "      <td>50</td>\n",
       "    </tr>\n",
       "    <tr>\n",
       "      <th>2</th>\n",
       "      <td>0.771479</td>\n",
       "      <td>0.932830</td>\n",
       "      <td>18.496380</td>\n",
       "      <td>1.500715</td>\n",
       "      <td>0.2</td>\n",
       "      <td>60</td>\n",
       "      <td>200</td>\n",
       "      <td>40</td>\n",
       "    </tr>\n",
       "    <tr>\n",
       "      <th>3</th>\n",
       "      <td>0.771479</td>\n",
       "      <td>0.932830</td>\n",
       "      <td>18.427830</td>\n",
       "      <td>1.523691</td>\n",
       "      <td>0.2</td>\n",
       "      <td>50</td>\n",
       "      <td>200</td>\n",
       "      <td>40</td>\n",
       "    </tr>\n",
       "    <tr>\n",
       "      <th>4</th>\n",
       "      <td>0.771479</td>\n",
       "      <td>0.932830</td>\n",
       "      <td>18.453162</td>\n",
       "      <td>1.513447</td>\n",
       "      <td>0.2</td>\n",
       "      <td>40</td>\n",
       "      <td>200</td>\n",
       "      <td>40</td>\n",
       "    </tr>\n",
       "    <tr>\n",
       "      <th>5</th>\n",
       "      <td>0.770939</td>\n",
       "      <td>0.952757</td>\n",
       "      <td>20.958477</td>\n",
       "      <td>1.547023</td>\n",
       "      <td>0.2</td>\n",
       "      <td>40</td>\n",
       "      <td>200</td>\n",
       "      <td>50</td>\n",
       "    </tr>\n",
       "    <tr>\n",
       "      <th>6</th>\n",
       "      <td>0.770599</td>\n",
       "      <td>0.964413</td>\n",
       "      <td>23.364413</td>\n",
       "      <td>1.579647</td>\n",
       "      <td>0.2</td>\n",
       "      <td>60</td>\n",
       "      <td>200</td>\n",
       "      <td>60</td>\n",
       "    </tr>\n",
       "    <tr>\n",
       "      <th>7</th>\n",
       "      <td>0.770016</td>\n",
       "      <td>0.962433</td>\n",
       "      <td>22.447611</td>\n",
       "      <td>1.561086</td>\n",
       "      <td>0.2</td>\n",
       "      <td>40</td>\n",
       "      <td>200</td>\n",
       "      <td>60</td>\n",
       "    </tr>\n",
       "    <tr>\n",
       "      <th>8</th>\n",
       "      <td>0.769912</td>\n",
       "      <td>0.909989</td>\n",
       "      <td>14.705083</td>\n",
       "      <td>1.449584</td>\n",
       "      <td>0.2</td>\n",
       "      <td>60</td>\n",
       "      <td>100</td>\n",
       "      <td>60</td>\n",
       "    </tr>\n",
       "    <tr>\n",
       "      <th>9</th>\n",
       "      <td>0.769349</td>\n",
       "      <td>0.909528</td>\n",
       "      <td>24.479106</td>\n",
       "      <td>1.582522</td>\n",
       "      <td>0.1</td>\n",
       "      <td>60</td>\n",
       "      <td>200</td>\n",
       "      <td>60</td>\n",
       "    </tr>\n",
       "  </tbody>\n",
       "</table>\n",
       "</div>"
      ],
      "text/plain": [
       "   test score  train score  fit time, s  score time, s  clf__learning_rate  \\\n",
       "0    0.772981     0.952161    20.996427       1.548134                 0.2   \n",
       "1    0.772981     0.952161    20.936025       1.549096                 0.2   \n",
       "2    0.771479     0.932830    18.496380       1.500715                 0.2   \n",
       "3    0.771479     0.932830    18.427830       1.523691                 0.2   \n",
       "4    0.771479     0.932830    18.453162       1.513447                 0.2   \n",
       "5    0.770939     0.952757    20.958477       1.547023                 0.2   \n",
       "6    0.770599     0.964413    23.364413       1.579647                 0.2   \n",
       "7    0.770016     0.962433    22.447611       1.561086                 0.2   \n",
       "8    0.769912     0.909989    14.705083       1.449584                 0.2   \n",
       "9    0.769349     0.909528    24.479106       1.582522                 0.1   \n",
       "\n",
       "   clf__max_depth  clf__n_estimators  clf__num_leaves  \n",
       "0              50                200               50  \n",
       "1              60                200               50  \n",
       "2              60                200               40  \n",
       "3              50                200               40  \n",
       "4              40                200               40  \n",
       "5              40                200               50  \n",
       "6              60                200               60  \n",
       "7              40                200               60  \n",
       "8              60                100               60  \n",
       "9              60                200               60  "
      ]
     },
     "execution_count": 18,
     "metadata": {},
     "output_type": "execute_result"
    }
   ],
   "source": [
    "%%time\n",
    "pipe = Pipeline([('vct', TfidfVectorizer(min_df=1e-5)),\n",
    "                 ('clf', LGBMClassifier(random_state=RANDOM_STATE))])\n",
    "\n",
    "params = {'clf__max_depth': [40, 50, 60],\n",
    "          'clf__learning_rate': [0.1, 0.2],\n",
    "          'clf__num_leaves': [40, 50, 60],\n",
    "          'clf__n_estimators': [100, 200]\n",
    "         }\n",
    "grid_lgbm_unigram = GridSearchCV(pipe, params, **cv_params)\n",
    "grid_lgbm_unigram.fit(X_train, y_train)\n",
    "hm.best_cv_models(grid_lgbm_unigram, 10)"
   ]
  },
  {
   "cell_type": "markdown",
   "metadata": {},
   "source": [
    "На признаках векторизированных по отдельным словам лес LightGBM обучается дольше. Однако менее склонен к  переобучению\n"
   ]
  },
  {
   "cell_type": "markdown",
   "metadata": {},
   "source": [
    "Лес также обучим на датасете, векторизированном на биграммах"
   ]
  },
  {
   "cell_type": "code",
   "execution_count": 19,
   "metadata": {},
   "outputs": [
    {
     "name": "stdout",
     "output_type": "stream",
     "text": [
      "Estimator: Pipeline(steps=[('vct', TfidfVectorizer(min_df=1e-05, ngram_range=(1, 2))),\n",
      "                ('clf', LGBMClassifier(random_state=123))])\n",
      "Tested 36 models. Splits: 3\n",
      "Best score = 0.7763275031138649\n",
      "\n",
      "Wall time: 1h 28min 33s\n"
     ]
    },
    {
     "data": {
      "text/html": [
       "<div>\n",
       "<style scoped>\n",
       "    .dataframe tbody tr th:only-of-type {\n",
       "        vertical-align: middle;\n",
       "    }\n",
       "\n",
       "    .dataframe tbody tr th {\n",
       "        vertical-align: top;\n",
       "    }\n",
       "\n",
       "    .dataframe thead th {\n",
       "        text-align: right;\n",
       "    }\n",
       "</style>\n",
       "<table border=\"1\" class=\"dataframe\">\n",
       "  <thead>\n",
       "    <tr style=\"text-align: right;\">\n",
       "      <th></th>\n",
       "      <th>test score</th>\n",
       "      <th>train score</th>\n",
       "      <th>fit time, s</th>\n",
       "      <th>score time, s</th>\n",
       "      <th>clf__learning_rate</th>\n",
       "      <th>clf__max_depth</th>\n",
       "      <th>clf__n_estimators</th>\n",
       "      <th>clf__num_leaves</th>\n",
       "    </tr>\n",
       "  </thead>\n",
       "  <tbody>\n",
       "    <tr>\n",
       "      <th>0</th>\n",
       "      <td>0.776328</td>\n",
       "      <td>0.935623</td>\n",
       "      <td>38.983869</td>\n",
       "      <td>3.574437</td>\n",
       "      <td>0.2</td>\n",
       "      <td>60</td>\n",
       "      <td>200</td>\n",
       "      <td>40</td>\n",
       "    </tr>\n",
       "    <tr>\n",
       "      <th>1</th>\n",
       "      <td>0.776328</td>\n",
       "      <td>0.935623</td>\n",
       "      <td>38.942034</td>\n",
       "      <td>3.575208</td>\n",
       "      <td>0.2</td>\n",
       "      <td>50</td>\n",
       "      <td>200</td>\n",
       "      <td>40</td>\n",
       "    </tr>\n",
       "    <tr>\n",
       "      <th>2</th>\n",
       "      <td>0.776328</td>\n",
       "      <td>0.935623</td>\n",
       "      <td>38.907911</td>\n",
       "      <td>3.621828</td>\n",
       "      <td>0.2</td>\n",
       "      <td>40</td>\n",
       "      <td>200</td>\n",
       "      <td>40</td>\n",
       "    </tr>\n",
       "    <tr>\n",
       "      <th>3</th>\n",
       "      <td>0.775320</td>\n",
       "      <td>0.911633</td>\n",
       "      <td>46.142126</td>\n",
       "      <td>3.652029</td>\n",
       "      <td>0.1</td>\n",
       "      <td>50</td>\n",
       "      <td>200</td>\n",
       "      <td>60</td>\n",
       "    </tr>\n",
       "    <tr>\n",
       "      <th>4</th>\n",
       "      <td>0.774795</td>\n",
       "      <td>0.956636</td>\n",
       "      <td>42.048692</td>\n",
       "      <td>3.631229</td>\n",
       "      <td>0.2</td>\n",
       "      <td>50</td>\n",
       "      <td>200</td>\n",
       "      <td>50</td>\n",
       "    </tr>\n",
       "    <tr>\n",
       "      <th>5</th>\n",
       "      <td>0.774795</td>\n",
       "      <td>0.956636</td>\n",
       "      <td>42.024173</td>\n",
       "      <td>3.603804</td>\n",
       "      <td>0.2</td>\n",
       "      <td>60</td>\n",
       "      <td>200</td>\n",
       "      <td>50</td>\n",
       "    </tr>\n",
       "    <tr>\n",
       "      <th>6</th>\n",
       "      <td>0.774528</td>\n",
       "      <td>0.912485</td>\n",
       "      <td>34.262247</td>\n",
       "      <td>3.650016</td>\n",
       "      <td>0.2</td>\n",
       "      <td>60</td>\n",
       "      <td>100</td>\n",
       "      <td>60</td>\n",
       "    </tr>\n",
       "    <tr>\n",
       "      <th>7</th>\n",
       "      <td>0.774520</td>\n",
       "      <td>0.955962</td>\n",
       "      <td>41.474434</td>\n",
       "      <td>3.597969</td>\n",
       "      <td>0.2</td>\n",
       "      <td>40</td>\n",
       "      <td>200</td>\n",
       "      <td>50</td>\n",
       "    </tr>\n",
       "    <tr>\n",
       "      <th>8</th>\n",
       "      <td>0.774308</td>\n",
       "      <td>0.965672</td>\n",
       "      <td>42.966860</td>\n",
       "      <td>3.635445</td>\n",
       "      <td>0.2</td>\n",
       "      <td>40</td>\n",
       "      <td>200</td>\n",
       "      <td>60</td>\n",
       "    </tr>\n",
       "    <tr>\n",
       "      <th>9</th>\n",
       "      <td>0.774289</td>\n",
       "      <td>0.911181</td>\n",
       "      <td>46.999018</td>\n",
       "      <td>3.700570</td>\n",
       "      <td>0.1</td>\n",
       "      <td>60</td>\n",
       "      <td>200</td>\n",
       "      <td>60</td>\n",
       "    </tr>\n",
       "  </tbody>\n",
       "</table>\n",
       "</div>"
      ],
      "text/plain": [
       "   test score  train score  fit time, s  score time, s  clf__learning_rate  \\\n",
       "0    0.776328     0.935623    38.983869       3.574437                 0.2   \n",
       "1    0.776328     0.935623    38.942034       3.575208                 0.2   \n",
       "2    0.776328     0.935623    38.907911       3.621828                 0.2   \n",
       "3    0.775320     0.911633    46.142126       3.652029                 0.1   \n",
       "4    0.774795     0.956636    42.048692       3.631229                 0.2   \n",
       "5    0.774795     0.956636    42.024173       3.603804                 0.2   \n",
       "6    0.774528     0.912485    34.262247       3.650016                 0.2   \n",
       "7    0.774520     0.955962    41.474434       3.597969                 0.2   \n",
       "8    0.774308     0.965672    42.966860       3.635445                 0.2   \n",
       "9    0.774289     0.911181    46.999018       3.700570                 0.1   \n",
       "\n",
       "   clf__max_depth  clf__n_estimators  clf__num_leaves  \n",
       "0              60                200               40  \n",
       "1              50                200               40  \n",
       "2              40                200               40  \n",
       "3              50                200               60  \n",
       "4              50                200               50  \n",
       "5              60                200               50  \n",
       "6              60                100               60  \n",
       "7              40                200               50  \n",
       "8              40                200               60  \n",
       "9              60                200               60  "
      ]
     },
     "execution_count": 19,
     "metadata": {},
     "output_type": "execute_result"
    }
   ],
   "source": [
    "%%time\n",
    "pipe = Pipeline([('vct', TfidfVectorizer(min_df=1e-5, ngram_range=(1,2))),\n",
    "                        ('clf', LGBMClassifier(random_state=RANDOM_STATE))])\n",
    "\n",
    "grid_lgbm_bigram = GridSearchCV(pipe, params, **cv_params)\n",
    "grid_lgbm_bigram.fit(X_train, y_train)\n",
    "hm.best_cv_models(grid_lgbm_bigram, 10)"
   ]
  },
  {
   "cell_type": "markdown",
   "metadata": {},
   "source": [
    "Лучшие показатели показывает логистическая регрессия."
   ]
  },
  {
   "cell_type": "markdown",
   "metadata": {},
   "source": [
    "## Обучение"
   ]
  },
  {
   "cell_type": "code",
   "execution_count": 20,
   "metadata": {},
   "outputs": [],
   "source": [
    "best_lr = grid_lr.best_estimator_\n",
    "model_ = {'LogisticRegression': best_lr}"
   ]
  },
  {
   "cell_type": "code",
   "execution_count": 22,
   "metadata": {
    "scrolled": true
   },
   "outputs": [
    {
     "data": {
      "application/vnd.jupyter.widget-view+json": {
       "model_id": "4f0cbe6a6f81447ca97de998535b8a11",
       "version_major": 2,
       "version_minor": 0
      },
      "text/plain": [
       "  0%|          | 0/1 [00:00<?, ?it/s]"
      ]
     },
     "metadata": {},
     "output_type": "display_data"
    },
    {
     "data": {
      "image/png": "[encoded data removed]",
      "text/plain": [
       "<Figure size 1000x800 with 1 Axes>"
      ]
     },
     "metadata": {},
     "output_type": "display_data"
    },
    {
     "data": {
      "text/html": [
       "<div>\n",
       "<style scoped>\n",
       "    .dataframe tbody tr th:only-of-type {\n",
       "        vertical-align: middle;\n",
       "    }\n",
       "\n",
       "    .dataframe tbody tr th {\n",
       "        vertical-align: top;\n",
       "    }\n",
       "\n",
       "    .dataframe thead th {\n",
       "        text-align: right;\n",
       "    }\n",
       "</style>\n",
       "<table border=\"1\" class=\"dataframe\">\n",
       "  <thead>\n",
       "    <tr style=\"text-align: right;\">\n",
       "      <th></th>\n",
       "      <th>LogisticRegression</th>\n",
       "    </tr>\n",
       "  </thead>\n",
       "  <tbody>\n",
       "    <tr>\n",
       "      <th>fit time</th>\n",
       "      <td>16.472341</td>\n",
       "    </tr>\n",
       "    <tr>\n",
       "      <th>predict time</th>\n",
       "      <td>2.963765</td>\n",
       "    </tr>\n",
       "    <tr>\n",
       "      <th>score test</th>\n",
       "      <td>0.782291</td>\n",
       "    </tr>\n",
       "  </tbody>\n",
       "</table>\n",
       "</div>"
      ],
      "text/plain": [
       "              LogisticRegression\n",
       "fit time               16.472341\n",
       "predict time            2.963765\n",
       "score test              0.782291"
      ]
     },
     "execution_count": 22,
     "metadata": {},
     "output_type": "execute_result"
    }
   ],
   "source": [
    "scores_table = {}\n",
    "for name, model in tqdm(model_.items()):\n",
    "    scores_table[name] = hm.test_model(\n",
    "        model, X_train, X_test, y_train, y_test, f1_score)\n",
    "\n",
    "hm.roc_curve_plot(model_, X_test, y_test)\n",
    "pd.DataFrame(scores_table)"
   ]
  },
  {
   "cell_type": "markdown",
   "metadata": {},
   "source": [
    "## Выводы"
   ]
  },
  {
   "cell_type": "markdown",
   "metadata": {},
   "source": [
    "Текстовые данные подготовлены очисткой от знаков пунктуации, приведением к нижнему регистру, лемматизацией слов\n",
    "\n",
    "На всех рассмотренных моделях получено требуемое значение `f1`-метрики.\n",
    "\n",
    "Лучше всего показывают себя модели, обученные на датасете с N-граммами (в нашем случае были рассмотрены пары слов)\n",
    "\n",
    "Наибольшая площадь под ROC-кривой у модели логистической регрессии, обученной на данных векторизированных на униграммах и биграммах\n",
    "\n",
    "Наивысшее значение метрики у классификатора LogisticRegression, обученного на данных векторизированных на униграммах и биграммах. Однако обучается такая модель в 2 раза дольше, чем на данных векторизированных только на униграммах"
   ]
  }
 ],
 "metadata": {
  "ExecuteTimeLog": [
   {
    "duration": 4168,
    "start_time": "2023-11-15T12:15:16.465Z"
   },
   {
    "duration": 20,
    "start_time": "2023-11-15T12:15:20.635Z"
   },
   {
    "duration": 216,
    "start_time": "2023-11-15T12:15:20.657Z"
   },
   {
    "duration": 0,
    "start_time": "2023-11-15T12:15:20.875Z"
   },
   {
    "duration": 0,
    "start_time": "2023-11-15T12:15:20.876Z"
   },
   {
    "duration": 0,
    "start_time": "2023-11-15T12:15:20.878Z"
   },
   {
    "duration": 0,
    "start_time": "2023-11-15T12:15:20.879Z"
   },
   {
    "duration": 0,
    "start_time": "2023-11-15T12:15:20.880Z"
   },
   {
    "duration": 0,
    "start_time": "2023-11-15T12:15:20.881Z"
   },
   {
    "duration": 0,
    "start_time": "2023-11-15T12:15:20.883Z"
   },
   {
    "duration": 0,
    "start_time": "2023-11-15T12:15:20.884Z"
   },
   {
    "duration": 0,
    "start_time": "2023-11-15T12:15:20.886Z"
   },
   {
    "duration": 2330,
    "start_time": "2023-11-15T12:15:53.800Z"
   },
   {
    "duration": 3439,
    "start_time": "2023-11-15T12:16:08.864Z"
   },
   {
    "duration": 15,
    "start_time": "2023-11-15T12:16:12.305Z"
   },
   {
    "duration": 4822,
    "start_time": "2023-11-15T12:16:12.322Z"
   },
   {
    "duration": 130,
    "start_time": "2023-11-15T12:16:17.147Z"
   },
   {
    "duration": 14,
    "start_time": "2023-11-15T12:16:17.279Z"
   },
   {
    "duration": 9,
    "start_time": "2023-11-15T12:16:17.294Z"
   },
   {
    "duration": 318,
    "start_time": "2023-11-15T12:16:17.305Z"
   },
   {
    "duration": 15,
    "start_time": "2023-11-15T12:16:17.625Z"
   },
   {
    "duration": 290,
    "start_time": "2023-11-15T12:16:17.641Z"
   },
   {
    "duration": 0,
    "start_time": "2023-11-15T12:16:17.933Z"
   },
   {
    "duration": 0,
    "start_time": "2023-11-15T12:16:17.934Z"
   },
   {
    "duration": 0,
    "start_time": "2023-11-15T12:16:17.936Z"
   },
   {
    "duration": 9715,
    "start_time": "2023-11-15T12:17:29.019Z"
   },
   {
    "duration": 147,
    "start_time": "2023-11-15T12:17:38.737Z"
   },
   {
    "duration": 3260,
    "start_time": "2023-11-15T12:18:01.536Z"
   },
   {
    "duration": 83,
    "start_time": "2023-11-15T12:18:04.799Z"
   },
   {
    "duration": 1728,
    "start_time": "2023-11-15T12:18:04.884Z"
   },
   {
    "duration": 103,
    "start_time": "2023-11-15T12:18:06.614Z"
   },
   {
    "duration": 14,
    "start_time": "2023-11-15T12:18:06.719Z"
   },
   {
    "duration": 28,
    "start_time": "2023-11-15T12:18:06.735Z"
   },
   {
    "duration": 345,
    "start_time": "2023-11-15T12:18:06.764Z"
   },
   {
    "duration": 9,
    "start_time": "2023-11-15T12:18:07.111Z"
   },
   {
    "duration": 305,
    "start_time": "2023-11-15T12:18:07.122Z"
   },
   {
    "duration": 12,
    "start_time": "2023-11-15T12:18:13.749Z"
   },
   {
    "duration": 4,
    "start_time": "2023-11-15T12:18:14.791Z"
   },
   {
    "duration": 1337,
    "start_time": "2023-11-15T12:18:15.830Z"
   },
   {
    "duration": 4513,
    "start_time": "2023-11-17T07:38:32.956Z"
   },
   {
    "duration": 65,
    "start_time": "2023-11-17T07:38:37.471Z"
   },
   {
    "duration": 5203,
    "start_time": "2023-11-17T07:38:37.538Z"
   },
   {
    "duration": 401,
    "start_time": "2023-11-17T07:38:42.744Z"
   },
   {
    "duration": 17,
    "start_time": "2023-11-17T07:38:43.231Z"
   },
   {
    "duration": 8,
    "start_time": "2023-11-17T07:38:43.250Z"
   },
   {
    "duration": 777,
    "start_time": "2023-11-17T07:38:43.260Z"
   },
   {
    "duration": 11,
    "start_time": "2023-11-17T07:38:44.039Z"
   },
   {
    "duration": 481,
    "start_time": "2023-11-17T07:38:44.052Z"
   },
   {
    "duration": 20,
    "start_time": "2023-11-17T07:38:44.536Z"
   },
   {
    "duration": 6,
    "start_time": "2023-11-17T07:38:44.558Z"
   },
   {
    "duration": 3083,
    "start_time": "2023-11-17T07:38:44.566Z"
   },
   {
    "duration": 131,
    "start_time": "2023-11-17T07:40:00.115Z"
   },
   {
    "duration": 13,
    "start_time": "2023-11-17T07:40:00.249Z"
   },
   {
    "duration": 3184,
    "start_time": "2023-11-17T07:40:00.263Z"
   },
   {
    "duration": 212,
    "start_time": "2023-11-17T07:40:03.449Z"
   },
   {
    "duration": 67,
    "start_time": "2023-11-17T07:40:03.663Z"
   },
   {
    "duration": 16,
    "start_time": "2023-11-17T07:40:03.733Z"
   },
   {
    "duration": 579,
    "start_time": "2023-11-17T07:40:03.751Z"
   },
   {
    "duration": 11,
    "start_time": "2023-11-17T07:40:04.332Z"
   },
   {
    "duration": 501,
    "start_time": "2023-11-17T07:40:04.346Z"
   },
   {
    "duration": 12,
    "start_time": "2023-11-17T07:40:04.850Z"
   },
   {
    "duration": 67,
    "start_time": "2023-11-17T07:40:04.864Z"
   },
   {
    "duration": 36,
    "start_time": "2023-11-17T07:40:04.933Z"
   },
   {
    "duration": 1944,
    "start_time": "2023-11-17T07:41:01.864Z"
   },
   {
    "duration": 21,
    "start_time": "2023-11-17T07:41:03.811Z"
   },
   {
    "duration": 1847,
    "start_time": "2023-11-17T07:41:03.834Z"
   },
   {
    "duration": 111,
    "start_time": "2023-11-17T07:41:05.684Z"
   },
   {
    "duration": 15,
    "start_time": "2023-11-17T07:41:05.797Z"
   },
   {
    "duration": 18,
    "start_time": "2023-11-17T07:41:05.814Z"
   },
   {
    "duration": 441,
    "start_time": "2023-11-17T07:41:05.834Z"
   },
   {
    "duration": 11,
    "start_time": "2023-11-17T07:41:06.276Z"
   },
   {
    "duration": 306,
    "start_time": "2023-11-17T07:41:06.288Z"
   },
   {
    "duration": 16,
    "start_time": "2023-11-17T07:41:06.597Z"
   },
   {
    "duration": 20,
    "start_time": "2023-11-17T07:41:06.616Z"
   },
   {
    "duration": 1584,
    "start_time": "2023-11-17T07:41:06.638Z"
   },
   {
    "duration": 6,
    "start_time": "2023-11-17T07:43:39.543Z"
   },
   {
    "duration": 33,
    "start_time": "2023-11-17T07:43:42.688Z"
   },
   {
    "duration": 5,
    "start_time": "2023-11-17T07:44:41.474Z"
   },
   {
    "duration": 75,
    "start_time": "2023-11-17T07:44:44.733Z"
   },
   {
    "duration": 6,
    "start_time": "2023-11-17T07:45:06.208Z"
   },
   {
    "duration": 55,
    "start_time": "2023-11-17T07:45:09.755Z"
   },
   {
    "duration": 7,
    "start_time": "2023-11-17T07:46:56.025Z"
   },
   {
    "duration": 64,
    "start_time": "2023-11-17T07:46:58.369Z"
   },
   {
    "duration": 5,
    "start_time": "2023-11-17T07:47:34.832Z"
   },
   {
    "duration": 83,
    "start_time": "2023-11-17T07:47:36.824Z"
   },
   {
    "duration": 8,
    "start_time": "2023-11-17T07:49:34.243Z"
   },
   {
    "duration": 19,
    "start_time": "2023-11-17T07:49:34.253Z"
   },
   {
    "duration": 1810,
    "start_time": "2023-11-17T07:49:34.274Z"
   },
   {
    "duration": 114,
    "start_time": "2023-11-17T07:49:36.086Z"
   },
   {
    "duration": 7,
    "start_time": "2023-11-17T07:49:36.202Z"
   },
   {
    "duration": 22,
    "start_time": "2023-11-17T07:49:36.210Z"
   },
   {
    "duration": 342,
    "start_time": "2023-11-17T07:49:36.233Z"
   },
   {
    "duration": 16,
    "start_time": "2023-11-17T07:49:36.577Z"
   },
   {
    "duration": 304,
    "start_time": "2023-11-17T07:49:36.595Z"
   },
   {
    "duration": 11,
    "start_time": "2023-11-17T07:49:36.900Z"
   },
   {
    "duration": 19,
    "start_time": "2023-11-17T07:49:36.913Z"
   },
   {
    "duration": 37,
    "start_time": "2023-11-17T07:49:36.934Z"
   }
  ],
  "interpreter": {
   "hash": "58656f4d27507c1cf066d160953941131aeedc5e8ddd25f7cf3d9165a5f5fe3d"
  },
  "kernelspec": {
   "display_name": "Python 3 (ipykernel)",
   "language": "python",
   "name": "python3"
  },
  "language_info": {
   "codemirror_mode": {
    "name": "ipython",
    "version": 3
   },
   "file_extension": ".py",
   "mimetype": "text/x-python",
   "name": "python",
   "nbconvert_exporter": "python",
   "pygments_lexer": "ipython3",
   "version": "3.9.13"
  },
  "toc": {
   "base_numbering": 1,
   "nav_menu": {},
   "number_sections": true,
   "sideBar": true,
   "skip_h1_title": true,
   "title_cell": "Содержание",
   "title_sidebar": "Contents",
   "toc_cell": true,
   "toc_position": {
    "height": "calc(100% - 180px)",
    "left": "10px",
    "top": "150px",
    "width": "302.391px"
   },
   "toc_section_display": true,
   "toc_window_display": false
  }
 },
 "nbformat": 4,
 "nbformat_minor": 2
}
